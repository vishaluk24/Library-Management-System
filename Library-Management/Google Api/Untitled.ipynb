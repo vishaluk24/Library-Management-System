{
 "cells": [
  {
   "cell_type": "code",
   "execution_count": 2,
   "id": "a772e1d4",
   "metadata": {
    "scrolled": false
   },
   "outputs": [],
   "source": [
    "import requests\n",
    "import mysql.connector\n",
    "Url = \"https://www.googleapis.com/books/v1/volumes?q=subject:sexual\"\n",
    "Result = requests.get(Url).json()\n",
    "Query = \"INSERT INTO books(BookId , Title , Image , Available) VALUES(%s , %s , %s , %s)\"\n",
    "Query2 = \"INSERT INTO bookdetails(BookId , Categories , Pages , Authors) VALUES(%s , %s , %s , %s)\"\n",
    "Id = 55\n",
    "mydb = mysql.connector.connect(\n",
    "  host=\"localhost\",\n",
    "  user=\"root\",\n",
    "  password=\"\",\n",
    "  database=\"elibrary\"\n",
    ")\n",
    "mycursor = mydb.cursor()\n",
    "Books = 0\n",
    "for Info in Result['items']:\n",
    "    try:\n",
    "        Title = Info['volumeInfo']['title']\n",
    "        Image = Info['volumeInfo']['imageLinks']['thumbnail']\n",
    "        Available = 1\n",
    "        val = (Id , Title , Image , Available)\n",
    "        mycursor.execute(Query, val)\n",
    "    except:\n",
    "        continue\n",
    "    Category = \"\"\n",
    "    Authors = \"\"\n",
    "    Pages = 0\n",
    "    try:\n",
    "        Pages = Info['volumeInfo']['pageCount']\n",
    "    except:\n",
    "        Pages = 0\n",
    "    try:\n",
    "        for i in Info['volumeInfo']['categories']:\n",
    "            Category += i + \",\";\n",
    "    except:\n",
    "        Category = \"\"\n",
    "    try:\n",
    "        for i in Info['volumeInfo']['authors']:\n",
    "            Authors += i + \",\";\n",
    "    except:\n",
    "         Authors = \"\"\n",
    "    val2 = (Id , Category , Pages ,Authors )\n",
    "    mycursor.execute(Query2, val2)\n",
    "    Id = Id + 1\n",
    "    Books = Books + 1\n",
    "    if Books >= 100:\n",
    "        break\n",
    "mydb.commit()"
   ]
  },
  {
   "cell_type": "code",
   "execution_count": null,
   "id": "0ee6b99b",
   "metadata": {},
   "outputs": [],
   "source": []
  }
 ],
 "metadata": {
  "kernelspec": {
   "display_name": "Python 3 (ipykernel)",
   "language": "python",
   "name": "python3"
  },
  "language_info": {
   "codemirror_mode": {
    "name": "ipython",
    "version": 3
   },
   "file_extension": ".py",
   "mimetype": "text/x-python",
   "name": "python",
   "nbconvert_exporter": "python",
   "pygments_lexer": "ipython3",
   "version": "3.9.13"
  }
 },
 "nbformat": 4,
 "nbformat_minor": 5
}
